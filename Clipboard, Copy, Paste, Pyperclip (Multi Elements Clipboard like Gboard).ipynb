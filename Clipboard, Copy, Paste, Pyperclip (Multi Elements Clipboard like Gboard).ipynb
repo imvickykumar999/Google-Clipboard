{
 "cells": [
  {
   "cell_type": "code",
   "execution_count": 89,
   "metadata": {},
   "outputs": [
    {
     "data": {
      "text/plain": [
       "'The text to be copied to the clipboard.'"
      ]
     },
     "execution_count": 89,
     "metadata": {},
     "output_type": "execute_result"
    }
   ],
   "source": [
    "import pyperclip\n",
    "\n",
    "pyperclip.copy('The text to be copied to the clipboard.')\n",
    "spam = pyperclip.paste()\n",
    "spam"
   ]
  },
  {
   "cell_type": "code",
   "execution_count": 90,
   "metadata": {},
   "outputs": [
    {
     "data": {
      "text/plain": [
       "'The text to be copied to the clipboard.'"
      ]
     },
     "execution_count": 90,
     "metadata": {},
     "output_type": "execute_result"
    }
   ],
   "source": [
    "pyperclip.paste()"
   ]
  },
  {
   "cell_type": "markdown",
   "metadata": {},
   "source": [
    "# https://stackoverflow.com/questions/11063458/python-script-to-copy-text-to-clipboard"
   ]
  },
  {
   "cell_type": "code",
   "execution_count": 97,
   "metadata": {},
   "outputs": [
    {
     "data": {
      "text/plain": [
       "'This is copied'"
      ]
     },
     "execution_count": 97,
     "metadata": {},
     "output_type": "execute_result"
    }
   ],
   "source": [
    "# !pip install clipboard\n",
    "\n",
    "import clipboard\n",
    "\n",
    "clipboard.copy(\"This is copied\")\n",
    "\n",
    "clipboard.paste()"
   ]
  },
  {
   "cell_type": "code",
   "execution_count": 20,
   "metadata": {},
   "outputs": [
    {
     "name": "stdout",
     "output_type": "stream",
     "text": [
      "Collecting clipboard\n",
      "  Downloading clipboard-0.0.4.tar.gz (1.7 kB)\n",
      "Requirement already satisfied: pyperclip>=1.3 in c:\\users\\vicky kumar\\anaconda3\\lib\\site-packages (from clipboard) (1.7.0)\n",
      "Building wheels for collected packages: clipboard\n",
      "  Building wheel for clipboard (setup.py): started\n",
      "  Building wheel for clipboard (setup.py): finished with status 'done'\n",
      "  Created wheel for clipboard: filename=clipboard-0.0.4-py3-none-any.whl size=1854 sha256=34cfb6b1018a26b5b9734d019ceca94137fe1b2b14c1ab03aa716ab1424228bd\n",
      "  Stored in directory: c:\\users\\vicky kumar\\appdata\\local\\pip\\cache\\wheels\\76\\06\\fa\\282b51f270aaab0f9141d8eec9016e29bce0e081861fabd4c8\n",
      "Successfully built clipboard\n",
      "Installing collected packages: clipboard\n",
      "Successfully installed clipboard-0.0.4\n"
     ]
    }
   ],
   "source": [
    "# !pip install clipboard"
   ]
  },
  {
   "cell_type": "code",
   "execution_count": 25,
   "metadata": {},
   "outputs": [
    {
     "name": "stdout",
     "output_type": "stream",
     "text": [
      "\r\n",
      "Collecting clipboard\r\n",
      "  Downloading clipboard-0.0.4.tar.gz (1.7 kB)\r\n",
      "Requirement already satisfied: pyperclip>=1.3 in c:\\users\\vicky kumar\\anaconda3\\lib\\site-packages (from clipboard) (1.7.0)\r\n",
      "Building wheels for collected packages: clipboard\r\n",
      "  Building wheel for clipboard (setup.py): started\r\n",
      "  Building wheel for clipboard (setup.py): finished with status 'done'\r\n",
      "  Created wheel for clipboard: filename=clipboard-0.0.4-py3-none-any.whl size=1854 sha256=34cfb6b1018a26b5b9734d019ceca94137fe1b2b14c1ab03aa716ab1424228bd\r\n",
      "  Stored in directory: c:\\users\\vicky kumar\\appdata\\local\\pip\\cache\\wheels\\76\\06\\fa\\282b51f270aaab0f9141d8eec9016e29bce0e081861fabd4c8\r\n",
      "Successfully built clipboard\r\n",
      "Installing collected packages: clipboard\r\n",
      "Successfully installed clipboard-0.0.4\n"
     ]
    }
   ],
   "source": [
    "print(clipboard.paste())"
   ]
  },
  {
   "cell_type": "markdown",
   "metadata": {},
   "source": [
    "Multiple copy and Paste same as Gboard\n",
    "============================================\n",
    "[Link : Google Clipboard Image](https://i.blogs.es/e9d4d0/portapapeles/450_1000.jpg)\n",
    "### https://i.blogs.es/e9d4d0/portapapeles/450_1000.jpg\n",
    "\n",
    "### Google recently added Clipboard feature to its keyboard app called Gboard. ... Clipboard helps to store copied text for a while and to use it when needed. In Clipboard for Gboard you can store 5 text items. Clipboard keeps copied text items only for one hour and that is the thing you keep in mind.\n",
    "-----------------------------------------------------------------------------------------------------------------"
   ]
  },
  {
   "cell_type": "code",
   "execution_count": 264,
   "metadata": {},
   "outputs": [
    {
     "name": "stdout",
     "output_type": "stream",
     "text": [
      "Wanna EMPTY Clipboard..? (y/n) : n\n",
      "\n",
      "Clipboard is NOT ALTERED...\n"
     ]
    }
   ],
   "source": [
    "# One time run cell, run if wanna Empty Clipboard...\n",
    "\n",
    "import clipboard as cb\n",
    "multi = ['Vicky']\n",
    "\n",
    "def Init():\n",
    "    yn = input('Wanna EMPTY Clipboard..? (y/n) : ')\n",
    "\n",
    "    if yn == 'y':\n",
    "        multi = []\n",
    "        print('\\nClipboard has been set to Default...')\n",
    "    else:\n",
    "        print('\\nClipboard is NOT ALTERED...')\n",
    "        \n",
    "Init()"
   ]
  },
  {
   "cell_type": "code",
   "execution_count": 265,
   "metadata": {},
   "outputs": [
    {
     "name": "stdout",
     "output_type": "stream",
     "text": [
      "\n",
      ">>> Copied element : \n",
      "\tAppend\n",
      "is Appended in Clipboard...\n",
      "\n",
      "1 ).  Vicky\n",
      "--------------------------------------------------\n",
      "2 ).  Append\n",
      "--------------------------------------------------\n"
     ]
    },
    {
     "data": {
      "text/plain": [
       "2"
      ]
     },
     "execution_count": 265,
     "metadata": {},
     "output_type": "execute_result"
    }
   ],
   "source": [
    "# ...to append in Clipboard...\n",
    "\n",
    "def Append():\n",
    "    multi.append(cb.paste())\n",
    "    print('\\n>>> Copied element : \\n\\t' + cb.paste() + '\\nis Appended in Clipboard...')\n",
    "    \n",
    "Append()\n",
    "show()"
   ]
  },
  {
   "cell_type": "code",
   "execution_count": 261,
   "metadata": {},
   "outputs": [
    {
     "name": "stdout",
     "output_type": "stream",
     "text": [
      "\n",
      "1 ).  Vicky\n",
      "--------------------------------------------------\n",
      "2 ).  show\n",
      "--------------------------------------------------\n",
      "3 ).  Clipboard\n",
      "--------------------------------------------------\n",
      "4 ).  'sha1:224fc9e9e717:0b337ebd7fc15efb339b2be0e43b6c3ed182558a'\r\n",
      "\n",
      "--------------------------------------------------\n",
      "5 ).      s = show()\r\n",
      "\n",
      "--------------------------------------------------\n",
      "6 ).  multi\n",
      "--------------------------------------------------\n",
      "\n",
      ">>> Number of Elements in Clipboard =  6\n"
     ]
    }
   ],
   "source": [
    "# ...print elements in Clipboard...\n",
    "\n",
    "def show():\n",
    "    c=0\n",
    "    line = '-'*50\n",
    "    print()\n",
    "    for i in multi:\n",
    "        print(c+1, '). ', i, \n",
    "              end = '\\n' + line + '\\n')\n",
    "        c += 1\n",
    "    return c\n",
    "\n",
    "print('\\n>>> Number of Elements in Clipboard = ', show())"
   ]
  },
  {
   "cell_type": "code",
   "execution_count": 262,
   "metadata": {},
   "outputs": [
    {
     "name": "stdout",
     "output_type": "stream",
     "text": [
      "Wanna remove elements from Clipboard..? (y/n) : y\n",
      "\n",
      "1 ).  Vicky\n",
      "--------------------------------------------------\n",
      "2 ).  show\n",
      "--------------------------------------------------\n",
      "3 ).  Clipboard\n",
      "--------------------------------------------------\n",
      "4 ).  'sha1:224fc9e9e717:0b337ebd7fc15efb339b2be0e43b6c3ed182558a'\n",
      "\n",
      "--------------------------------------------------\n",
      "5 ).      s = show()\n",
      "\n",
      "--------------------------------------------------\n",
      "6 ).  multi\n",
      "--------------------------------------------------\n",
      "\n",
      "Enter index, (less than 7) : 5\n",
      "\n",
      "Clipboard contains : \n",
      "\n",
      "1 ).  Vicky\n",
      "--------------------------------------------------\n",
      "2 ).  show\n",
      "--------------------------------------------------\n",
      "3 ).  Clipboard\n",
      "--------------------------------------------------\n",
      "4 ).  'sha1:224fc9e9e717:0b337ebd7fc15efb339b2be0e43b6c3ed182558a'\n",
      "\n",
      "--------------------------------------------------\n",
      "5 ).  multi\n",
      "--------------------------------------------------\n"
     ]
    }
   ],
   "source": [
    "# Remove elements from Clipboard...\n",
    "\n",
    "def Remove():\n",
    "    ask = input('Wanna remove elements from Clipboard..? (y/n) : ')\n",
    "    if ask == 'y':\n",
    "        r = show()\n",
    "        p = int(input('\\nEnter index, (less than ' + str(r+1) + ') : '))\n",
    "\n",
    "        multi.pop(p-1)\n",
    "        print('\\nClipboard contains : ')\n",
    "        show()\n",
    "    else:\n",
    "        print('\\n >>> Nothing is Removed from Clipboard...')\n",
    "        \n",
    "Remove()"
   ]
  },
  {
   "cell_type": "code",
   "execution_count": 263,
   "metadata": {},
   "outputs": [
    {
     "name": "stdout",
     "output_type": "stream",
     "text": [
      "\n",
      "1 ).  Vicky\n",
      "--------------------------------------------------\n",
      "2 ).  show\n",
      "--------------------------------------------------\n",
      "3 ).  Clipboard\n",
      "--------------------------------------------------\n",
      "4 ).  'sha1:224fc9e9e717:0b337ebd7fc15efb339b2be0e43b6c3ed182558a'\n",
      "\n",
      "--------------------------------------------------\n",
      "5 ).  multi\n",
      "--------------------------------------------------\n",
      "Enter index to Copy in Clipboard, (less than -> 6) : 4\n",
      "\n",
      ">>> Successfully Copied in Clipboard :  'sha1:224fc9e9e717:0b337ebd7fc15efb339b2be0e43b6c3ed182558a'\n",
      "\n"
     ]
    }
   ],
   "source": [
    "# choose what to copy from Clipboard...\n",
    "\n",
    "def Copy():\n",
    "    e = show()\n",
    "    j = int(input('Enter index to Copy in Clipboard, (less than -> ' + str(e+1) + ') : '))\n",
    "    cb.copy(multi[j-1])\n",
    "\n",
    "    print('\\n>>> Successfully Copied in Clipboard : ', cb.paste())\n",
    "    \n",
    "Copy()"
   ]
  },
  {
   "cell_type": "code",
   "execution_count": 36,
   "metadata": {},
   "outputs": [
    {
     "name": "stdout",
     "output_type": "stream",
     "text": [
      "Enter password: ········\n",
      "Verify password: ········\n"
     ]
    },
    {
     "data": {
      "text/plain": [
       "'sha1:224fc9e9e717:0b337ebd7fc15efb339b2be0e43b6c3ed182558a'"
      ]
     },
     "execution_count": 36,
     "metadata": {},
     "output_type": "execute_result"
    }
   ],
   "source": [
    "# from notebook.auth import passwd\n",
    "# passwd()"
   ]
  },
  {
   "cell_type": "code",
   "execution_count": 139,
   "metadata": {},
   "outputs": [],
   "source": [
    "# make function in switch case... for append, remove, copy and paste... in dictionary as while True: in CMD"
   ]
  },
  {
   "cell_type": "code",
   "execution_count": 254,
   "metadata": {},
   "outputs": [
    {
     "data": {
      "text/plain": [
       "('Invalid day of week', 'Friday')"
      ]
     },
     "execution_count": 254,
     "metadata": {},
     "output_type": "execute_result"
    }
   ],
   "source": [
    "# s = show()\n",
    "def week(i):\n",
    "    switcher = {\n",
    "            1:'Monday',\n",
    "            2:'Tuesday',\n",
    "            3:'Wednesday',\n",
    "            4:'Thursday',\n",
    "            5:'Friday',\n",
    "            6:'Saturday',\n",
    "            7:'Sunday',\n",
    "#             'show':s\n",
    "    }\n",
    "    \n",
    "    return switcher.get(i,\"Invalid day of week\")\n",
    "\n",
    "# print(week('show'))\n",
    "week(1.6), week(5)"
   ]
  },
  {
   "cell_type": "code",
   "execution_count": 252,
   "metadata": {},
   "outputs": [
    {
     "name": "stdout",
     "output_type": "stream",
     "text": [
      "Press ENTER to print value of a\n",
      "done\n",
      "\n",
      "5\n"
     ]
    }
   ],
   "source": [
    "# def func():\n",
    "#     a = 5\n",
    "#     print('\\ndone')\n",
    "#     return a\n",
    "\n",
    "# # version 1: if print doesn't have to be outside of the function\n",
    "# def main():\n",
    "#     temp = input('Press ENTER to print value of a')\n",
    "#     if temp == '':\n",
    "#         local_a = func()\n",
    "#     else:\n",
    "#         # use else to avoid UnboundLocalError: local variable 'a' referenced\n",
    "#         # before assignment\n",
    "#         local_a = None\n",
    "#     print(local_a)\n",
    "\n",
    "\n",
    "# if __name__ == \"__main__\":\n",
    "#     main()"
   ]
  },
  {
   "cell_type": "code",
   "execution_count": 12,
   "metadata": {
    "scrolled": true
   },
   "outputs": [
    {
     "name": "stdout",
     "output_type": "stream",
     "text": [
      "\n",
      "...go to Kernal -> Restart, to end While loop, or press alphabet instead of integer in Input.\n",
      "\n",
      "\n",
      ">>> Menu ================================================\n",
      "\n",
      "1: Init()\n",
      "2: Append()\n",
      "3: show()\n",
      "4: Remove()\n",
      "5: Copy()\n",
      "\n",
      "Kindly Press 2 after every Copy to append in Clipboard\n",
      "\n",
      ">>> Enter your Option : j\n",
      "\n",
      "...Error =  invalid literal for int() with base 10: 'j'\n"
     ]
    },
    {
     "data": {
      "text/plain": [
       "'Thanks for using this Code :)'"
      ]
     },
     "execution_count": 12,
     "metadata": {},
     "output_type": "execute_result"
    }
   ],
   "source": [
    "import clipboard as cb\n",
    "multi = ['Vicky']\n",
    "\n",
    "def Init():\n",
    "    print('Temporary Init() function is out of Service ;)')\n",
    "#     yn = input('Wanna EMPTY Clipboard..? (y/n) : ')\n",
    "\n",
    "#     if yn == 'y':\n",
    "#         multi = []\n",
    "#         print('\\nClipboard has been set to Default = {}'.format(multi))\n",
    "#     else:\n",
    "#         print('\\nClipboard is NOT ALTERED...')\n",
    "        \n",
    "def show():\n",
    "    c=0\n",
    "    line = '-'*30\n",
    "    print()\n",
    "    for i in multi:\n",
    "        print(c+1, '). ', i, \n",
    "              end = '\\n' + line + '\\n')\n",
    "        c += 1\n",
    "    return c\n",
    "\n",
    "def Append():\n",
    "    multi.append(cb.paste())\n",
    "    print('\\n>>> Copied element : \\n\\t' + cb.paste() + '\\nis Appended in Clipboard...')\n",
    "    show()\n",
    "\n",
    "def Remove():\n",
    "    ask = input('Wanna remove elements from Clipboard..? (y/n) : ')\n",
    "    if ask == 'y':\n",
    "        r = show()\n",
    "        p = int(input('\\nEnter index, (less than ' + str(r+1) + ') : '))\n",
    "\n",
    "        multi.pop(p-1)\n",
    "        print('\\nClipboard contains : ')\n",
    "        show()\n",
    "    else:\n",
    "        print('\\n >>> Nothing is Removed from Clipboard...')\n",
    "        \n",
    "def Copy():\n",
    "    e = show()\n",
    "    j = int(input('Enter index to Copy in Clipboard, (less than -> ' + str(e+1) + ') : '))\n",
    "    cb.copy(multi[j-1])\n",
    "\n",
    "    print('\\n>>> Successfully Copied in Clipboard : ', cb.paste())\n",
    "\n",
    "print('\\n...go to Kernal -> Restart, to end While loop, or press alphabet instead of integer in Input.\\n')\n",
    "\n",
    "while True: # ...go to Kernal -> Restart, to end While loop, or press alphabet instead of integer in Input.\n",
    "    print('\\n>>> Menu ================================================\\n')\n",
    "    \n",
    "    print('1: Init()')\n",
    "    print('2: Append()')\n",
    "    print('3: show()')\n",
    "    print('4: Remove()')\n",
    "    print('5: Copy()')\n",
    "\n",
    "    print('\\nKindly Press 2 after every Copy to append in Clipboard')\n",
    "    \n",
    "    try:\n",
    "        opt = int(input('\\n>>> Enter your Option : '))\n",
    "\n",
    "        if opt == 1: Init()\n",
    "        if opt == 2: Append()\n",
    "        if opt == 3: show()\n",
    "        if opt == 4: Remove()\n",
    "        if opt == 5: Copy()\n",
    "            \n",
    "    except Exception as e:\n",
    "        print('\\n...Error = ', e)\n",
    "        break\n",
    "        \n",
    "'Thanks for using this Code :)'"
   ]
  },
  {
   "cell_type": "code",
   "execution_count": null,
   "metadata": {},
   "outputs": [],
   "source": []
  }
 ],
 "metadata": {
  "kernelspec": {
   "display_name": "Python 3",
   "language": "python",
   "name": "python3"
  },
  "language_info": {
   "codemirror_mode": {
    "name": "ipython",
    "version": 3
   },
   "file_extension": ".py",
   "mimetype": "text/x-python",
   "name": "python",
   "nbconvert_exporter": "python",
   "pygments_lexer": "ipython3",
   "version": "3.7.4"
  }
 },
 "nbformat": 4,
 "nbformat_minor": 4
}
